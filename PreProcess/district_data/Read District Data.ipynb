{
 "cells": [
  {
   "cell_type": "code",
   "execution_count": 1,
   "metadata": {},
   "outputs": [],
   "source": [
    "# dependencies\n",
    "import os\n",
    "import sys\n",
    "import copy\n",
    "import numpy as np\n",
    "import pandas as pd\n",
    "import matplotlib.pyplot as plt\n",
    "import matplotlib.image as mpimg\n",
    "import matplotlib as mpl\n",
    "import seaborn as sns\n",
    "\n",
    "sns.set()\n",
    "sns.set_style(\"dark\")\n",
    "# sns.set_style(\"whitegrid\")\n",
    "sns.set_context(\"paper\", font_scale=4, rc={\"lines.linewidth\": 4})\n",
    "mpl.rcParams['lines.linewidth'] = 3"
   ]
  },
  {
   "cell_type": "code",
   "execution_count": 2,
   "metadata": {},
   "outputs": [],
   "source": [
    "import pyvista as pv\n",
    "import geopandas as gpd\n",
    "from shapely.geometry import Point\n",
    "from descartes import PolygonPatch"
   ]
  },
  {
   "cell_type": "code",
   "execution_count": 3,
   "metadata": {},
   "outputs": [],
   "source": [
    "from matplotlib.collections import PatchCollection\n",
    "from matplotlib.patches import Polygon"
   ]
  },
  {
   "cell_type": "code",
   "execution_count": 4,
   "metadata": {},
   "outputs": [],
   "source": [
    "import random\n",
    "import datetime"
   ]
  },
  {
   "cell_type": "markdown",
   "metadata": {},
   "source": [
    "# Texas with county"
   ]
  },
  {
   "cell_type": "code",
   "execution_count": 5,
   "metadata": {},
   "outputs": [],
   "source": [
    "tx_dist_shp = gpd.read_file(\"data/shp/District.shp\")\n",
    "# print(tx_dist_shp)"
   ]
  },
  {
   "cell_type": "code",
   "execution_count": 6,
   "metadata": {},
   "outputs": [],
   "source": [
    "dist_geom = tx_dist_shp['geometry']\n",
    "dist_nbr = tx_dist_shp['TXDOT_DI_1']\n",
    "dist_nm = tx_dist_shp['TXDOT_DI_2']"
   ]
  },
  {
   "cell_type": "code",
   "execution_count": 7,
   "metadata": {},
   "outputs": [],
   "source": [
    "## Create district list where 1st element is the 1st district, 2nd element is the 2nd district, etc\n",
    "N_districts = 25\n",
    "new_dist_geom = []\n",
    "new_dist_nm = []\n",
    "for i in range(N_districts):\n",
    "    for j in range(N_districts):\n",
    "        if dist_nbr[j] == i + 1:\n",
    "            new_dist_nm.append(dist_nm[j])\n",
    "            new_dist_geom.append(dist_geom[j])"
   ]
  },
  {
   "cell_type": "markdown",
   "metadata": {},
   "source": [
    "# Get counties in each district"
   ]
  },
  {
   "cell_type": "code",
   "execution_count": 8,
   "metadata": {},
   "outputs": [],
   "source": [
    "sys.path.insert(0, '../county_data')\n",
    "from read_county_data import *"
   ]
  },
  {
   "cell_type": "code",
   "execution_count": 9,
   "metadata": {},
   "outputs": [],
   "source": [
    "county_nms, county_dist, county_dist_names, county_polys = read_county_map('../county_data/data/')"
   ]
  },
  {
   "cell_type": "code",
   "execution_count": 10,
   "metadata": {},
   "outputs": [],
   "source": [
    "# collect counties for each district\n",
    "new_dist_county_nbr = []\n",
    "new_dist_county_nm = []\n",
    "\n",
    "N_counties = len(county_nms)\n",
    "for i in range(N_districts):\n",
    "    # search for counties that have i+1 as their district\n",
    "    cn = []\n",
    "    nm = []\n",
    "    for j in range(N_counties):\n",
    "        if county_dist[j] == i:\n",
    "            cn.append(j)\n",
    "            nm.append(county_nms[j])\n",
    "    new_dist_county_nbr.append(cn)\n",
    "    new_dist_county_nm.append(nm)"
   ]
  },
  {
   "cell_type": "markdown",
   "metadata": {},
   "source": [
    "# Save data "
   ]
  },
  {
   "cell_type": "code",
   "execution_count": 11,
   "metadata": {},
   "outputs": [],
   "source": [
    "fdir = 'data/'\n",
    "fdname = open(fdir + 'district_names.txt', 'w')\n",
    "fdcounty = open(fdir + 'district_counties.txt', 'w')\n",
    "for i in range(N_districts):\n",
    "    #fcpoly.write('{}\\n'.format(new_county_polys[i]))\n",
    "    fdname.write(\"{}\\n\".format(new_dist_nm[i]))\n",
    "    \n",
    "    Nc = len(new_dist_county_nbr[i])\n",
    "    for j in range(Nc):\n",
    "        fdcounty.write('{}'.format(new_dist_county_nbr[i][j]))\n",
    "        if j < Nc - 1:\n",
    "            fdcounty.write(', ')\n",
    "        else:\n",
    "            fdcounty.write('\\n')\n",
    "\n",
    "#fcpoly.close()\n",
    "fdname.close()\n",
    "fdcounty.close()"
   ]
  },
  {
   "cell_type": "markdown",
   "metadata": {},
   "source": [
    "# Test script"
   ]
  },
  {
   "cell_type": "code",
   "execution_count": 12,
   "metadata": {},
   "outputs": [],
   "source": [
    "from read_district_data import *"
   ]
  },
  {
   "cell_type": "code",
   "execution_count": 13,
   "metadata": {},
   "outputs": [],
   "source": [
    "new_dist_nm, new_dist_county_nbr, new_dist_county_nm, new_dist_geom = read_dist_map('data/', county_nms, county_dist, \n",
    "                                                  county_dist_names, county_polys, 0)"
   ]
  },
  {
   "cell_type": "code",
   "execution_count": 14,
   "metadata": {},
   "outputs": [],
   "source": [
    "new_dist_nm_check, new_dist_county_nbr_check, new_dist_county_nm_check, new_dist_geom = read_dist_data('data/', county_nms, county_dist, \n",
    "                                                  county_dist_names, county_polys, 0)"
   ]
  },
  {
   "cell_type": "code",
   "execution_count": 16,
   "metadata": {},
   "outputs": [
    {
     "name": "stdout",
     "output_type": "stream",
     "text": [
      "total err: 0\n"
     ]
    }
   ],
   "source": [
    "err_sum = 0\n",
    "for i in range(len(new_dist_nm_check)):\n",
    "    if new_dist_nm_check[i] != new_dist_nm[i]:\n",
    "        err_sum += 1\n",
    "    if len(new_dist_county_nbr_check[i]) != len(new_dist_county_nbr[i]):\n",
    "        err_sum += 1\n",
    "    if len(new_dist_county_nm_check[i]) != len(new_dist_county_nm[i]):\n",
    "        err_sum += 1\n",
    "    for j in range(len(new_dist_county_nbr_check[i])):\n",
    "        \n",
    "        if new_dist_county_nbr_check[i][j] != new_dist_county_nbr[i][j]:\n",
    "            err_sum += 1\n",
    "            \n",
    "        if new_dist_county_nm_check[i][j] != new_dist_county_nm[i][j]:\n",
    "            err_sum += 1\n",
    "        \n",
    "print(\"total err: {}\".format(err_sum))"
   ]
  },
  {
   "cell_type": "code",
   "execution_count": null,
   "metadata": {},
   "outputs": [],
   "source": []
  }
 ],
 "metadata": {
  "kernelspec": {
   "display_name": "Python 3",
   "language": "python",
   "name": "python3"
  },
  "language_info": {
   "codemirror_mode": {
    "name": "ipython",
    "version": 3
   },
   "file_extension": ".py",
   "mimetype": "text/x-python",
   "name": "python",
   "nbconvert_exporter": "python",
   "pygments_lexer": "ipython3",
   "version": "3.7.7"
  }
 },
 "nbformat": 4,
 "nbformat_minor": 4
}
